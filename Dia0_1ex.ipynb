{
 "cells": [
  {
   "cell_type": "code",
   "execution_count": 3,
   "id": "0d7b8992",
   "metadata": {},
   "outputs": [
    {
     "data": {
      "application/vnd.jupyter.widget-view+json": {
       "model_id": "09071466f37f428b9b42fb32e7475562",
       "version_major": 2,
       "version_minor": 0
      },
      "text/plain": [
       "Map(center=[0.0, 0.0], controls=(ZoomControl(options=['position', 'zoom_in_text', 'zoom_in_title', 'zoom_out_t…"
      ]
     },
     "metadata": {},
     "output_type": "display_data"
    }
   ],
   "source": [
    "#import \n",
    "import ipyleaflet\n",
    "from ipyleaflet import Map\n",
    "\n",
    "#create map\n",
    "basic_map = ipyleaflet.Map(zoom=1)\n",
    "\n",
    "#display map\n",
    "basic_map"
   ]
  },
  {
   "cell_type": "markdown",
   "id": "5bb2071d",
   "metadata": {},
   "source": [
    "# Map types\n"
   ]
  },
  {
   "cell_type": "code",
   "execution_count": 16,
   "id": "f2063baa",
   "metadata": {},
   "outputs": [
    {
     "data": {
      "application/vnd.jupyter.widget-view+json": {
       "model_id": "f3de41b077594890ae660a202dae72fe",
       "version_major": 2,
       "version_minor": 0
      },
      "text/plain": [
       "interactive(children=(RadioButtons(description='Map types', options=('Positron', 'DarkMatter', 'WorldTopoMap',…"
      ]
     },
     "metadata": {},
     "output_type": "display_data"
    },
    {
     "data": {
      "text/plain": [
       "<function __main__.toggle_maps(map)>"
      ]
     },
     "execution_count": 16,
     "metadata": {},
     "output_type": "execute_result"
    }
   ],
   "source": [
    "import ipyleaflet\n",
    "import ipywidgets\n",
    "from ipyleaflet import basemaps, Map\n",
    "\n",
    "radio_button = ipywidgets.RadioButtons(options=['Positron','DarkMatter','WorldTopoMap',\n",
    "                                                'WorldImagery','ModisTerra'],\n",
    "                                      value='Positron',\n",
    "                                      description='Map types')\n",
    "def toggle_maps(map):\n",
    "    if map == 'Positron': m = Map(zoom=2, basemap=basemaps.CartoDB.Positron)\n",
    "    if map == 'DarkMatter': m = Map(zoom=1, basemap=basemaps.CartoDB.DarkMatter)\n",
    "    if map == 'WorldTopoMap': m = Map(center=(41.35, 1.15), zoom=4, basemap=basemaps.Esri.WorldTopoMap)\n",
    "    if map == 'WorldImagery': m = Map(center=(41.35, 1.15), zoom=6, basemap=basemaps.Esri.WorldImagery)\n",
    "    if map == 'ModisTerra': m = Map(center=(41.35, 1.15), zoom=6, basemap=basemaps.NASAGIBS.ModisTerraTrueColorCR)\n",
    "    display(m)\n",
    "        \n",
    "ipywidgets.interact(toggle_maps, map=radio_button)"
   ]
  },
  {
   "cell_type": "markdown",
   "id": "b1a42ed3",
   "metadata": {},
   "source": [
    "# Marker\n"
   ]
  },
  {
   "cell_type": "code",
   "execution_count": 24,
   "id": "dbaf06a1",
   "metadata": {
    "scrolled": true
   },
   "outputs": [
    {
     "name": "stdout",
     "output_type": "stream",
     "text": [
      "Requirement already satisfied: geocoder in c:\\users\\34639\\anaconda3\\envs\\demo\\lib\\site-packages (1.38.1)\n",
      "Requirement already satisfied: requests in c:\\users\\34639\\anaconda3\\envs\\demo\\lib\\site-packages (from geocoder) (2.25.1)\n",
      "Requirement already satisfied: ratelim in c:\\users\\34639\\anaconda3\\envs\\demo\\lib\\site-packages (from geocoder) (0.1.6)\n",
      "Requirement already satisfied: six in c:\\users\\34639\\anaconda3\\envs\\demo\\lib\\site-packages (from geocoder) (1.16.0)\n",
      "Requirement already satisfied: future in c:\\users\\34639\\anaconda3\\envs\\demo\\lib\\site-packages (from geocoder) (0.18.2)\n",
      "Requirement already satisfied: click in c:\\users\\34639\\anaconda3\\envs\\demo\\lib\\site-packages (from geocoder) (8.0.1)\n",
      "Requirement already satisfied: colorama in c:\\users\\34639\\appdata\\roaming\\python\\python39\\site-packages (from click->geocoder) (0.4.4)\n",
      "Requirement already satisfied: decorator in c:\\users\\34639\\anaconda3\\envs\\demo\\lib\\site-packages (from ratelim->geocoder) (5.0.9)\n",
      "Requirement already satisfied: urllib3<1.27,>=1.21.1 in c:\\users\\34639\\anaconda3\\envs\\demo\\lib\\site-packages (from requests->geocoder) (1.26.4)\n",
      "Requirement already satisfied: idna<3,>=2.5 in c:\\users\\34639\\anaconda3\\envs\\demo\\lib\\site-packages (from requests->geocoder) (2.10)\n",
      "Requirement already satisfied: chardet<5,>=3.0.2 in c:\\users\\34639\\anaconda3\\envs\\demo\\lib\\site-packages (from requests->geocoder) (4.0.0)\n",
      "Requirement already satisfied: certifi>=2017.4.17 in c:\\users\\34639\\anaconda3\\envs\\demo\\lib\\site-packages (from requests->geocoder) (2020.12.5)\n"
     ]
    }
   ],
   "source": [
    "# Install a pip package \n",
    "! pip install geocoder\n",
    "\n"
   ]
  },
  {
   "cell_type": "code",
   "execution_count": 27,
   "id": "63702626",
   "metadata": {},
   "outputs": [
    {
     "data": {
      "application/vnd.jupyter.widget-view+json": {
       "model_id": "69510932e5f348bab604d859a52f7481",
       "version_major": 2,
       "version_minor": 0
      },
      "text/plain": [
       "Map(center=[41.3763065, 1.1616953142023152], controls=(ZoomControl(options=['position', 'zoom_in_text', 'zoom_…"
      ]
     },
     "metadata": {},
     "output_type": "display_data"
    }
   ],
   "source": [
    "from ipyleaflet import Map, Marker\n",
    "import geocoder\n",
    "\n",
    "#location adress \n",
    "location = geocoder.osm('Casal dels Desclergue, Plaça Major, Montblanc, Conca de Barberà, Tarragona, Catalunya, 43400, Espanya')\n",
    "\n",
    "# to view location details use location.json\n",
    "\n",
    "# latitude and longitude of location\n",
    "latlng = [location.lat, location.lng]\n",
    "\n",
    "# create map\n",
    "map_montblanc = Map(center=latlng)\n",
    "\n",
    "# marker\n",
    "marker = Marker(location=latlng, title='Casal dels Desclergue')\n",
    "map_montblanc.add_layer(marker)\n",
    "\n",
    "# display map\n",
    "map_montblanc"
   ]
  },
  {
   "cell_type": "markdown",
   "id": "b5e02433",
   "metadata": {},
   "source": [
    "# Marker cluster\n"
   ]
  },
  {
   "cell_type": "markdown",
   "id": "d04999e7",
   "metadata": {},
   "source": [
    "install vega_datasets\n"
   ]
  },
  {
   "cell_type": "code",
   "execution_count": 30,
   "id": "16b55980",
   "metadata": {},
   "outputs": [
    {
     "name": "stdout",
     "output_type": "stream",
     "text": [
      "Collecting vega-datasets\n",
      "  Downloading vega_datasets-0.9.0-py3-none-any.whl (210 kB)\n",
      "Collecting pandas\n",
      "  Using cached pandas-1.2.4-cp39-cp39-win_amd64.whl (9.3 MB)\n",
      "Collecting pytz>=2017.3\n",
      "  Using cached pytz-2021.1-py2.py3-none-any.whl (510 kB)\n",
      "Requirement already satisfied: python-dateutil>=2.7.3 in c:\\users\\34639\\anaconda3\\envs\\demo\\lib\\site-packages (from pandas->vega-datasets) (2.8.1)\n",
      "Requirement already satisfied: numpy>=1.16.5 in c:\\users\\34639\\anaconda3\\envs\\demo\\lib\\site-packages (from pandas->vega-datasets) (1.20.3)\n",
      "Requirement already satisfied: six>=1.5 in c:\\users\\34639\\anaconda3\\envs\\demo\\lib\\site-packages (from python-dateutil>=2.7.3->pandas->vega-datasets) (1.16.0)\n",
      "Installing collected packages: pytz, pandas, vega-datasets\n",
      "Successfully installed pandas-1.2.4 pytz-2021.1 vega-datasets-0.9.0\n"
     ]
    }
   ],
   "source": [
    "!pip install vega-datasets\n"
   ]
  },
  {
   "cell_type": "code",
   "execution_count": 34,
   "id": "a5024dd4",
   "metadata": {},
   "outputs": [
    {
     "data": {
      "application/vnd.jupyter.widget-view+json": {
       "model_id": "ca2413a5a4c340419e6de8e36e478ee3",
       "version_major": 2,
       "version_minor": 0
      },
      "text/plain": [
       "Map(center=[41.35, -99], controls=(ZoomControl(options=['position', 'zoom_in_text', 'zoom_in_title', 'zoom_out…"
      ]
     },
     "metadata": {},
     "output_type": "display_data"
    }
   ],
   "source": [
    "from ipyleaflet import Map, Marker\n",
    "from vega_datasets import data\n",
    "\n",
    "# airports dataframe using vega_datasets\n",
    "airports = data.airports()\n",
    "airports = airports[:25] #use the first 25\n",
    "\n",
    "# create map\n",
    "airports_map = Map(center=(41.35, -99), zoom=4)\n",
    "\n",
    "# plot airport locations\n",
    "for (index, row) in airports.iterrows():\n",
    "    marker = Marker(location=[row.loc['latitude'], row.loc['longitude']], \n",
    "                    title=row.loc['name'] + ' ' + row.loc['city'] + ' ' + row.loc['state'])\n",
    "    airports_map.add_layer(marker)\n",
    "\n",
    "# display map    \n",
    "airports_map"
   ]
  },
  {
   "cell_type": "markdown",
   "id": "1ccd622a",
   "metadata": {},
   "source": [
    "# Overlay GeoJSON layers\n",
    "Created in the web: [GeoJSON.io](https://geojson.io/#map=2/20.0/0.0)"
   ]
  },
  {
   "cell_type": "code",
   "execution_count": 40,
   "id": "9f707edb",
   "metadata": {},
   "outputs": [
    {
     "data": {
      "application/vnd.jupyter.widget-view+json": {
       "model_id": "1fd42ab2a58e4b369ab9cf0f8249c1b4",
       "version_major": 2,
       "version_minor": 0
      },
      "text/plain": [
       "Map(center=[41.35, 1.15], controls=(ZoomControl(options=['position', 'zoom_in_text', 'zoom_in_title', 'zoom_ou…"
      ]
     },
     "metadata": {},
     "output_type": "display_data"
    }
   ],
   "source": [
    "import ipyleaflet\n",
    "from ipyleaflet import Map, GeoJSON\n",
    "import json\n",
    "\n",
    "# create custom geojson\n",
    "with open('map_shore_line.geojson') as f:\n",
    "    geo_json_shore_line = json.load(f)\n",
    "\n",
    "# create map    \n",
    "geo_json_shore_line_map = ipyleaflet.Map(center=(41.35, 1.15), zoom=8)\n",
    "\n",
    "# create geo_json layer with style attributes\n",
    "geo_json_layer = GeoJSON(data=geo_json_shore_line,\n",
    "                                 style = {'color': 'blue', \n",
    "                                          'opacity': 1.0, \n",
    "                                          'weight': 1.9,\n",
    "                                          'fill': 'green',\n",
    "                                          'fillOpacity': 0.5})\n",
    "\n",
    "# add geo_json layer to map\n",
    "geo_json_shore_line_map.add_layer(geo_json_layer)\n",
    "\n",
    "# display map\n",
    "display(geo_json_shore_line_map)\n"
   ]
  },
  {
   "cell_type": "code",
   "execution_count": null,
   "id": "1179287f",
   "metadata": {},
   "outputs": [],
   "source": [
    " "
   ]
  }
 ],
 "metadata": {
  "kernelspec": {
   "display_name": "Python 3",
   "language": "python",
   "name": "python3"
  },
  "language_info": {
   "codemirror_mode": {
    "name": "ipython",
    "version": 3
   },
   "file_extension": ".py",
   "mimetype": "text/x-python",
   "name": "python",
   "nbconvert_exporter": "python",
   "pygments_lexer": "ipython3",
   "version": "3.9.5"
  }
 },
 "nbformat": 4,
 "nbformat_minor": 5
}
