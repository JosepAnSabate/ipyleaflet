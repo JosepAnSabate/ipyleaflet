{
 "cells": [
  {
   "cell_type": "markdown",
   "id": "3494697b",
   "metadata": {},
   "source": [
    "# Import online geojson\n"
   ]
  },
  {
   "cell_type": "code",
   "execution_count": 3,
   "id": "bbff0f79",
   "metadata": {},
   "outputs": [
    {
     "data": {
      "application/vnd.jupyter.widget-view+json": {
       "model_id": "3f52eb26ab0243928cfa78c1dbc06030",
       "version_major": 2,
       "version_minor": 0
      },
      "text/plain": [
       "Map(center=[41.186096, 0.880554], controls=(ZoomControl(options=['position', 'zoom_in_text', 'zoom_in_title', …"
      ]
     },
     "metadata": {},
     "output_type": "display_data"
    }
   ],
   "source": [
    "import os\n",
    "import json\n",
    "import random\n",
    "import requests\n",
    "\n",
    "from ipyleaflet import Map, GeoJSON\n",
    "\n",
    "if not os.path.exists('comarques-tarragona.geojson'):\n",
    "    url = 'https://raw.githubusercontent.com/aariste/GeoJSON-Mapas/master/comarques-tarragona.geojson'\n",
    "    r = requests.get(url)\n",
    "    with open('comarques-tarragona.geojson', 'w') as f:\n",
    "        f.write(r.content.decode(\"utf-8\"))\n",
    "\n",
    "with open('comarques-tarragona.geojson', 'r') as f:\n",
    "    data = json.load(f)\n",
    "\n",
    "def random_color(feature):\n",
    "    return {\n",
    "        'color': 'black',\n",
    "        'fillColor': random.choice(['red', 'yellow', 'green', 'orange','blue']),\n",
    "    }\n",
    "\n",
    "m = Map(center=(41.186096, 0.880554), zoom=8)\n",
    "\n",
    "geo_json = GeoJSON(\n",
    "    data=data,\n",
    "    style={\n",
    "        'opacity': 1, 'dashArray': '9', 'fillOpacity': 0.3, 'weight': 1\n",
    "    },\n",
    "    hover_style={\n",
    "        'color': 'white', 'dashArray': '0', 'fillOpacity': 0.5\n",
    "    },\n",
    "    style_callback=random_color\n",
    ")\n",
    "m.add_layer(geo_json)\n",
    "\n",
    "m"
   ]
  },
  {
   "cell_type": "markdown",
   "id": "735cba9e",
   "metadata": {},
   "source": [
    "# Choropleth"
   ]
  },
  {
   "cell_type": "code",
   "execution_count": 4,
   "id": "563de20f",
   "metadata": {},
   "outputs": [],
   "source": [
    "import ipyleaflet\n",
    "import json\n",
    "import pandas as pd\n",
    "import os\n",
    "import requests\n",
    "from ipywidgets import link, FloatSlider\n",
    "from branca.colormap import linear\n",
    "\n",
    "def load_data(url, filename, file_type):\n",
    "    r = requests.get(url)\n",
    "    with open(filename, 'w') as f:\n",
    "        f.write(r.content.decode(\"utf-8\"))\n",
    "    with open(filename, 'r') as f:\n",
    "        return file_type(f)"
   ]
  },
  {
   "cell_type": "code",
   "execution_count": null,
   "id": "725d1d49",
   "metadata": {},
   "outputs": [],
   "source": []
  }
 ],
 "metadata": {
  "kernelspec": {
   "display_name": "Python 3",
   "language": "python",
   "name": "python3"
  },
  "language_info": {
   "codemirror_mode": {
    "name": "ipython",
    "version": 3
   },
   "file_extension": ".py",
   "mimetype": "text/x-python",
   "name": "python",
   "nbconvert_exporter": "python",
   "pygments_lexer": "ipython3",
   "version": "3.9.5"
  }
 },
 "nbformat": 4,
 "nbformat_minor": 5
}
